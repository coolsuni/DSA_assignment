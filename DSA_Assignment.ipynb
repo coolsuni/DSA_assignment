{
 "cells": [
  {
   "cell_type": "code",
   "execution_count": 1,
   "id": "ecb175b7-f3a0-4c2f-b644-20a1ac0dac18",
   "metadata": {},
   "outputs": [],
   "source": [
    "# Reverse a singly linked list."
   ]
  },
  {
   "cell_type": "code",
   "execution_count": 2,
   "id": "04e5e516-5e7c-450a-8e9b-1b744e1020b8",
   "metadata": {},
   "outputs": [],
   "source": [
    "class Node:\n",
    "\n",
    "    def __init__(self, data):\n",
    "        self.data = data\n",
    "        self.next = None\n",
    "\n",
    "class LinkedList:\n",
    "\n",
    "    def __init__(self):\n",
    "        self.head = None\n",
    "   \n",
    "    def reverse(self):\n",
    "        prev = None\n",
    "        current = self.head\n",
    "        while(current is not None):\n",
    "            next = current.next\n",
    "            current.next = prev\n",
    "            prev = current\n",
    "            current = next\n",
    "        self.head = prev\n",
    "\n",
    "    def push(self, new_data):\n",
    "        new_node = Node(new_data)\n",
    "        new_node.next = self.head\n",
    "        self.head = new_node\n",
    "\n",
    "    def printList(self):\n",
    "        temp = self.head\n",
    "        while(temp):\n",
    "            print(temp.data, end=\" \")\n",
    "            temp = temp.next"
   ]
  },
  {
   "cell_type": "code",
   "execution_count": 3,
   "id": "1f7b34a6-0b70-40f6-a447-bf8031856c42",
   "metadata": {},
   "outputs": [
    {
     "name": "stdout",
     "output_type": "stream",
     "text": [
      "Given linked list\n",
      "5 4 3 2 1 \n",
      "Reversed linked list\n",
      "1 2 3 4 5 "
     ]
    }
   ],
   "source": [
    "llist = LinkedList()\n",
    "llist.push(1)\n",
    "llist.push(2)\n",
    "llist.push(3)\n",
    "llist.push(4)\n",
    "llist.push(5)\n",
    "\n",
    "print (\"Given linked list\")\n",
    "llist.printList()\n",
    "llist.reverse()\n",
    "print (\"\\nReversed linked list\")\n",
    "llist.printList()\n",
    "    \n",
    "        "
   ]
  },
  {
   "cell_type": "code",
   "execution_count": 4,
   "id": "114ab44a-cd41-496f-af09-83f75ba8986c",
   "metadata": {},
   "outputs": [],
   "source": [
    "#2) Merge two sorted linked lists into one sorted linked list."
   ]
  },
  {
   "cell_type": "code",
   "execution_count": 7,
   "id": "44bfa5f3-4840-485e-a8da-8f866b8e8304",
   "metadata": {},
   "outputs": [],
   "source": [
    "class Node:\n",
    "    def __init__(self, data):\n",
    "        self.data = data\n",
    "        self.next = None\n",
    "class LinkedList:\n",
    "    def __init__(self):\n",
    "        self.head = None\n",
    " \n",
    "    def printList(self):\n",
    "        temp = self.head\n",
    "        while temp:\n",
    "            print(temp.data, end=\" \")\n",
    "            temp = temp.next\n",
    " \n",
    "    def addToList(self, newData):\n",
    "        newNode = Node(newData)\n",
    "        if self.head is None:\n",
    "            self.head = newNode\n",
    "            return\n",
    " \n",
    "        last = self.head\n",
    "        while last.next:\n",
    "            last = last.next\n",
    " \n",
    "        last.next = newNode\n",
    " \n",
    " \n",
    "def mergeLists(headA, headB):\n",
    " \n",
    "    dummyNode = Node(0)\n",
    "    tail = dummyNode\n",
    "    while True:\n",
    " \n",
    "        if headA is None:\n",
    "            tail.next = headB\n",
    "            break\n",
    "        if headB is None:\n",
    "            tail.next = headA\n",
    "            break\n",
    "        if headA.data <= headB.data:\n",
    "            tail.next = headA\n",
    "            headA = headA.next\n",
    "        else:\n",
    "            tail.next = headB\n",
    "            headB = headB.next\n",
    " \n",
    "        tail = tail.next\n",
    " \n",
    "    return dummyNode.next"
   ]
  },
  {
   "cell_type": "code",
   "execution_count": 8,
   "id": "5e31c597-d9f9-46ad-ad0c-de06214ed042",
   "metadata": {},
   "outputs": [],
   "source": [
    "listA = LinkedList()\n",
    "listB = LinkedList()\n",
    " \n",
    "listA.addToList(1)\n",
    "listA.addToList(3)\n",
    "listA.addToList(5)\n",
    " \n",
    "listB.addToList(2)\n",
    "listB.addToList(4)\n",
    "listB.addToList(6)"
   ]
  },
  {
   "cell_type": "code",
   "execution_count": 9,
   "id": "e833a48f-9054-451a-9b53-a4ed0a4981cc",
   "metadata": {},
   "outputs": [
    {
     "name": "stdout",
     "output_type": "stream",
     "text": [
      "Merged Linked List is:\n",
      "1 2 3 4 5 6 "
     ]
    }
   ],
   "source": [
    "listA.head = mergeLists(listA.head, listB.head)\n",
    "print(\"Merged Linked List is:\")\n",
    "listA.printList()"
   ]
  },
  {
   "cell_type": "code",
   "execution_count": 10,
   "id": "b0bf118c-2a3a-4381-ad2b-89a884c5423c",
   "metadata": {},
   "outputs": [],
   "source": [
    "#3) Remove the nth node from the end of a linked list.\n"
   ]
  },
  {
   "cell_type": "code",
   "execution_count": 11,
   "id": "bf544014-1ac7-48af-91c2-3626888500ff",
   "metadata": {},
   "outputs": [],
   "source": [
    "class Node:\n",
    "    def __init__(self, value):\n",
    "        self.data = value\n",
    "        self.next = None\n",
    "\n",
    "def length(head):\n",
    "    temp = head\n",
    "    count = 0\n",
    "    while(temp != None):\n",
    "        count += 1\n",
    "        temp = temp.next\n",
    "    return count\n",
    "\n",
    "def printList(head):\n",
    "    ptr = head\n",
    "    while(ptr != None):\n",
    "        print (ptr.data, end =\" \")\n",
    "        ptr = ptr.next\n",
    "    print()\n",
    "\n",
    "def deleteNthNodeFromEnd(head, n):\n",
    "    Length = length(head)\n",
    "    nodeFromBeginning = Length - n + 1\n",
    "    prev = None\n",
    "    temp = head\n",
    "    for i in range(1, nodeFromBeginning):\n",
    "        prev = temp\n",
    "        temp = temp.next\n",
    "    if(prev == None):\n",
    "        head = head.next\n",
    "        return head\n",
    "    else:\n",
    "        prev.next = prev.next.next\n",
    "        return head"
   ]
  },
  {
   "cell_type": "code",
   "execution_count": 12,
   "id": "73fe08ef-e4f6-41b8-b897-2f1f0b5b0fdf",
   "metadata": {},
   "outputs": [],
   "source": [
    "if __name__ == '__main__':\n",
    "    head = Node(1)\n",
    "    head.next = Node(2)\n",
    "    head.next.next = Node(3)\n",
    "    head.next.next.next = Node(4)\n",
    "    head.next.next.next.next = Node(5)"
   ]
  },
  {
   "cell_type": "code",
   "execution_count": 13,
   "id": "b1e4c879-b938-4ed0-8c85-a194c673ac79",
   "metadata": {},
   "outputs": [
    {
     "name": "stdout",
     "output_type": "stream",
     "text": [
      "Linked List before Deletion:\n",
      "1 2 3 4 5 \n",
      "Linked List after Deletion:\n",
      "1 3 4 5 \n"
     ]
    }
   ],
   "source": [
    "    print(\"Linked List before Deletion:\")\n",
    "    printList(head)\n",
    "\n",
    "    head = deleteNthNodeFromEnd(head, 4)\n",
    "\n",
    "    print(\"Linked List after Deletion:\")\n",
    "    printList(head)"
   ]
  },
  {
   "cell_type": "code",
   "execution_count": 14,
   "id": "cc1b97a8-968d-4d87-ae7e-17b45d532f53",
   "metadata": {},
   "outputs": [],
   "source": [
    "#4) Find the intersection point of two linked lists.\n"
   ]
  },
  {
   "cell_type": "code",
   "execution_count": 15,
   "id": "937d7741-1aaf-458a-a974-3ee3a60eebce",
   "metadata": {},
   "outputs": [],
   "source": [
    "class Node:\n",
    "    def __init__(self, data):\n",
    "        self.data = data\n",
    "        self.next = None\n",
    "\n",
    "def getIntersectionNode(head1, head2):\n",
    "    while head2:\n",
    "        temp = head1\n",
    "        while temp:\n",
    "            # if both Nodes are same\n",
    "            if temp == head2:\n",
    "                return head2\n",
    "            temp = temp.next\n",
    "        head2 = head2.next\n",
    "    return None"
   ]
  },
  {
   "cell_type": "code",
   "execution_count": 16,
   "id": "b220f767-c8c5-4063-b779-dd5523d380fe",
   "metadata": {},
   "outputs": [
    {
     "name": "stdout",
     "output_type": "stream",
     "text": [
      "Intersection Point: 3\n"
     ]
    }
   ],
   "source": [
    "if __name__ == '__main__':\n",
    "    newNode = Node(1)\n",
    "    head1 = newNode\n",
    "    newNode = Node(2)\n",
    "    head2 = newNode\n",
    "    newNode = Node(3)\n",
    "    head2.next = newNode\n",
    "    newNode = Node(4)\n",
    "    head2.next.next = newNode\n",
    "    newNode = Node(9)\n",
    "    head1.next = newNode\n",
    "    head2.next.next.next = newNode\n",
    "    newNode = Node(8)\n",
    "    head1.next.next = newNode\n",
    "    newNode = Node(3)\n",
    "    head1.next = newNode\n",
    "    head2.next.next.next = newNode\n",
    "    newNode = Node(4)\n",
    "    head1.next.next = newNode\n",
    "\n",
    "    intersectionPoint = getIntersectionNode(head1, head2)\n",
    "\n",
    "    if not intersectionPoint:\n",
    "        print(\" No Intersection Point \")\n",
    "    else:\n",
    "        print(\"Intersection Point:\", intersectionPoint.data)\n"
   ]
  },
  {
   "cell_type": "code",
   "execution_count": 17,
   "id": "31d3af3d-887b-4b14-aaef-757757edb95c",
   "metadata": {},
   "outputs": [],
   "source": [
    "#5) Remove duplicates from a sorted linked list.\n"
   ]
  },
  {
   "cell_type": "code",
   "execution_count": 18,
   "id": "f617d590-ec04-4857-9136-10904bd0180f",
   "metadata": {},
   "outputs": [],
   "source": [
    "class Node:\n",
    "\n",
    "    def __init__(self, data):\n",
    "        self.data = data\n",
    "        self.next = None\n",
    "\n",
    "\n",
    "class LinkedList:\n",
    "\n",
    "    def __init__(self):\n",
    "        self.head = None\n",
    "\n",
    "   \n",
    "    def push(self, new_data):\n",
    "        new_node = Node(new_data)\n",
    "        new_node.next = self.head\n",
    "        self.head = new_node\n",
    "\n",
    "    def deleteNode(self, key):\n",
    "     \n",
    "        temp = self.head\n",
    "    \n",
    "        if (temp is not None):\n",
    "            if (temp.data == key):\n",
    "                self.head = temp.next\n",
    "                temp = None\n",
    "                return\n",
    "       \n",
    "        while(temp is not None):\n",
    "            if temp.data == key:\n",
    "                break\n",
    "            prev = temp\n",
    "            temp = temp.next\n",
    "      \n",
    "        if(temp == None):\n",
    "            return\n",
    "       \n",
    "        prev.next = temp.next\n",
    "\n",
    "        temp = None\n",
    "   \n",
    "    def printList(self):\n",
    "        temp = self.head\n",
    "        while(temp):\n",
    "            print(temp.data, end=' ')\n",
    "            temp = temp.next\n",
    "   \n",
    "    def removeDuplicates(self):\n",
    "        temp = self.head\n",
    "        if temp is None:\n",
    "            return\n",
    "        while temp.next is not None:\n",
    "            if temp.data == temp.next.data:\n",
    "                new = temp.next.next\n",
    "                temp.next = None\n",
    "                temp.next = new\n",
    "            else:\n",
    "                temp = temp.next\n",
    "        return self.head"
   ]
  },
  {
   "cell_type": "code",
   "execution_count": 19,
   "id": "03b1f1f8-13bb-4cd2-a462-3cd18fbbce61",
   "metadata": {},
   "outputs": [
    {
     "name": "stdout",
     "output_type": "stream",
     "text": [
      "Created Linked List: \n",
      "3 3 2 1 \n",
      "Linked List after removing duplicate elements:\n",
      "3 2 1 "
     ]
    }
   ],
   "source": [
    "llist = LinkedList()\n",
    "\n",
    "llist.push(1)\n",
    "llist.push(2)\n",
    "llist.push(3)\n",
    "llist.push(3)\n",
    "print(\"Created Linked List: \")\n",
    "llist.printList()\n",
    "print()\n",
    "print(\"Linked List after removing\",\n",
    "      \"duplicate elements:\")\n",
    "llist.removeDuplicates()\n",
    "llist.printList()"
   ]
  },
  {
   "cell_type": "code",
   "execution_count": 20,
   "id": "cd2407c7-0d7e-4b64-bb90-a20f44df53a4",
   "metadata": {},
   "outputs": [],
   "source": [
    "#6) Add two numbers represented by linked lists (where each node contains a single digit).\n"
   ]
  },
  {
   "cell_type": "code",
   "execution_count": 21,
   "id": "f431c2b6-aa6c-4169-a9a4-655ee138beca",
   "metadata": {},
   "outputs": [],
   "source": [
    "class Node:\n",
    "    def __init__(self, data):\n",
    "        self.data = data\n",
    "        self.next = None\n",
    "        \n",
    "class LinkedList:\n",
    "    def __init__(self):\n",
    "        self.head = None\n",
    "    def push(self, new_data):\n",
    "        new_node = Node(new_data)\n",
    "        new_node.next = self.head\n",
    "        self.head = new_node\n",
    "        \n",
    "    def printList(self):\n",
    "        n = self.head\n",
    "        while n:\n",
    "            print(n.data, end=' ')\n",
    "            n = n.next\n",
    "        print()\n",
    "\n",
    "def addTwoLists(first, second):\n",
    "    num1, num2 = 0, 0\n",
    "    while first.head:\n",
    "        num1 = num1*10 + first.head.data\n",
    "        first.head = first.head.next\n",
    "    while second.head:\n",
    "        num2 = num2*10 + second.head.data\n",
    "        second.head = second.head.next\n",
    "    num3 = num1 + num2\n",
    "    temp = LinkedList()\n",
    "    while num3:\n",
    "        last = num3 % 10\n",
    "        temp.push(last)\n",
    "        num3 = num3 // 10\n",
    "    return temp"
   ]
  },
  {
   "cell_type": "code",
   "execution_count": 22,
   "id": "fa98b5d8-14bb-48d2-910e-af6466de93a9",
   "metadata": {},
   "outputs": [
    {
     "name": "stdout",
     "output_type": "stream",
     "text": [
      "Sum is :  2 5 4 2 6 \n"
     ]
    }
   ],
   "source": [
    "if __name__ == '__main__':\n",
    "    first = LinkedList()\n",
    "    second = LinkedList()\n",
    "    first.push(2)\n",
    "    first.push(4)\n",
    "    first.push(3)\n",
    "    first.push(5)\n",
    "    first.push(2)\n",
    "\n",
    "    second.push(4)\n",
    "    second.push(8)\n",
    "\n",
    "    ans = addTwoLists(first, second)\n",
    "\n",
    "    print(\"Sum is : \", end=' ')\n",
    "    ans.printList()"
   ]
  },
  {
   "cell_type": "code",
   "execution_count": 23,
   "id": "7bd79fee-dff8-4375-8b72-eec44e0f2fd2",
   "metadata": {},
   "outputs": [],
   "source": [
    "#7) Swap nodes in pairs in a linked list.\n"
   ]
  },
  {
   "cell_type": "code",
   "execution_count": 30,
   "id": "0811def5-a3a3-4578-a446-eb09bdf56e9d",
   "metadata": {},
   "outputs": [],
   "source": [
    "class Node:\n",
    "\n",
    "\tdef __init__(self, data):\n",
    "\t\tself.data = data\n",
    "\t\tself.next = None\n",
    "\n",
    "\n",
    "class LinkedList:\n",
    "\n",
    "\tdef __init__(self):\n",
    "\t\tself.head = None\n",
    "\n",
    "\tdef pairwiseSwap(self):\n",
    "\t\ttemp = self.head\n",
    "\t\n",
    "\t\tif temp is None:\n",
    "\t\t\treturn\n",
    "\t\n",
    "\t\twhile(temp and temp.next):\n",
    "\n",
    "\t\t\tif(temp.data != temp.next.data):\n",
    "\t\t\t\ttemp.data, temp.next.data = temp.next.data, temp.data\n",
    "\t\t\ttemp = temp.next.next\n",
    "\n",
    "\t\n",
    "\tdef push(self, new_data):\n",
    "\t\tnew_node = Node(new_data)\n",
    "\t\tnew_node.next = self.head\n",
    "\t\tself.head = new_node\n",
    "\n",
    "\n",
    "\tdef printList(self):\n",
    "\t\ttemp = self.head\n",
    "\t\twhile(temp):\n",
    "\t\t\tprint (temp.data)\n",
    "\t\t\ttemp = temp.next"
   ]
  },
  {
   "cell_type": "code",
   "execution_count": 32,
   "id": "87f2d49b-4a1c-4518-b398-dd8e18f56b44",
   "metadata": {},
   "outputs": [
    {
     "name": "stdout",
     "output_type": "stream",
     "text": [
      "Linked list before calling pairWiseSwap()\n",
      "4\n",
      "3\n",
      "2\n",
      "1\n",
      "\n",
      "Linked list after calling pairWiseSwap()\n",
      "3\n",
      "4\n",
      "1\n",
      "2\n"
     ]
    }
   ],
   "source": [
    "llist = LinkedList()\n",
    "llist.push(1)\n",
    "llist.push(2)\n",
    "llist.push(3)\n",
    "llist.push(4)\n",
    "\n",
    "\n",
    "print (\"Linked list before calling pairWiseSwap()\") \n",
    "llist.printList()\n",
    "\n",
    "llist.pairwiseSwap()\n",
    "\n",
    "print (\"\\nLinked list after calling pairWiseSwap()\")\n",
    "llist.printList()\n"
   ]
  },
  {
   "cell_type": "code",
   "execution_count": 33,
   "id": "ed7ec2c4-2f23-479d-9c8e-24bbeefbaa47",
   "metadata": {},
   "outputs": [],
   "source": [
    "#8) Reverse nodes in a linked list in groups of k.\n"
   ]
  },
  {
   "cell_type": "code",
   "execution_count": 34,
   "id": "67100bfd-f3ee-4d91-b9aa-6931360d3122",
   "metadata": {},
   "outputs": [],
   "source": [
    "class Node: \n",
    "  \n",
    "    def __init__(self, data): \n",
    "        self.data = data \n",
    "        self.next = None\n",
    "  \n",
    "  \n",
    "class LinkedList: \n",
    "  \n",
    "    def __init__(self): \n",
    "        self.head = None\n",
    "  \n",
    "    def reverse(self, head, k): \n",
    "        \n",
    "        if head == None: \n",
    "          return None\n",
    "        current = head \n",
    "        next = None\n",
    "        prev = None\n",
    "        count = 0\n",
    "       \n",
    "        while(current is not None and count < k): \n",
    "            next = current.next\n",
    "            current.next = prev \n",
    "            prev = current \n",
    "            current = next\n",
    "            count += 1\n",
    "       \n",
    "        if next is not None: \n",
    "            head.next = self.reverse(next, k) \n",
    "        \n",
    "        return prev \n",
    "   \n",
    "    def push(self, new_data): \n",
    "        new_node = Node(new_data) \n",
    "        new_node.next = self.head \n",
    "        self.head = new_node \n",
    "   \n",
    "    def printList(self): \n",
    "        temp = self.head \n",
    "        while(temp): \n",
    "            print(temp.data,end=' ') \n",
    "            temp = temp.next\n",
    "  \n",
    "  \n"
   ]
  },
  {
   "cell_type": "code",
   "execution_count": 35,
   "id": "6f27e7ee-875d-4f55-9eb0-f34ef95ff1ba",
   "metadata": {},
   "outputs": [
    {
     "name": "stdout",
     "output_type": "stream",
     "text": [
      "Given linked list\n",
      "5 4 3 2 1 \n",
      "Reversed Linked list\n",
      "3 4 5 1 2 "
     ]
    }
   ],
   "source": [
    "llist = LinkedList() \n",
    "llist.push(1) \n",
    "llist.push(2) \n",
    "llist.push(3) \n",
    "llist.push(4) \n",
    "llist.push(5) \n",
    "  \n",
    "print(\"Given linked list\") \n",
    "llist.printList() \n",
    "llist.head = llist.reverse(llist.head, 3) \n",
    "  \n",
    "print (\"\\nReversed Linked list\") \n",
    "llist.printList() "
   ]
  },
  {
   "cell_type": "code",
   "execution_count": 36,
   "id": "9ca6e282-2262-4e8b-b875-de491d48bdd8",
   "metadata": {},
   "outputs": [],
   "source": [
    "#9) to check if a list is pallindrome or not"
   ]
  },
  {
   "cell_type": "code",
   "execution_count": 39,
   "id": "6605da1e-6850-42b9-9493-6031d096d597",
   "metadata": {},
   "outputs": [],
   "source": [
    "class Node:\n",
    "    def __init__(self, data):\n",
    "\n",
    "        self.data = data\n",
    "        self.ptr = None\n",
    "\n",
    "def ispalindrome(head):\n",
    "\n",
    "    slow = head\n",
    "    stack = []\n",
    "\n",
    "    ispalin = True\n",
    "    while slow != None:\n",
    "        stack.append(slow.data)\n",
    " \n",
    "        slow = slow.ptr\n",
    "  \n",
    "    while head != None:\n",
    "\n",
    "        i = stack.pop()\n",
    "\n",
    "        if head.data == i:\n",
    "            ispalin = True\n",
    "        else:\n",
    "            ispalin = False\n",
    "            break\n",
    "\n",
    "       \n",
    "        head = head.ptr\n",
    "\n",
    "    return ispalin"
   ]
  },
  {
   "cell_type": "code",
   "execution_count": 40,
   "id": "4d0e0ff0-9c36-4b35-b61a-780dadd62a28",
   "metadata": {},
   "outputs": [
    {
     "name": "stdout",
     "output_type": "stream",
     "text": [
      "isPalindrome: False\n"
     ]
    }
   ],
   "source": [
    "\n",
    "one = Node(1)\n",
    "two = Node(2)\n",
    "three = Node(2)\n",
    "four = Node(1)\n",
    "\n",
    "one.ptr = two\n",
    "two.ptr = three\n",
    "three.ptr = four\n",
    "four.ptr = five\n",
    "five.ptr = six\n",
    "six.ptr = seven\n",
    "seven.ptr = None\n",
    "\n",
    "\n",
    "result = ispalindrome(one)\n",
    "\n",
    "print(\"isPalindrome:\", result)"
   ]
  },
  {
   "cell_type": "code",
   "execution_count": 41,
   "id": "d896498a-583d-417e-b1c9-f3cbd87a866f",
   "metadata": {},
   "outputs": [],
   "source": [
    "#10) Rotate a linked list to the right by k places."
   ]
  },
  {
   "cell_type": "code",
   "execution_count": 45,
   "id": "89c5cc91-3751-44e4-b8ef-5e8c4762de0c",
   "metadata": {},
   "outputs": [],
   "source": [
    "class Node: \n",
    "\n",
    "\t\n",
    "\tdef __init__(self, data): \n",
    "\t\tself.data = data \n",
    "\t\tself.next = None\n",
    "\n",
    "\n",
    "class LinkedList: \n",
    "\n",
    "\tdef __init__(self): \n",
    "\t\tself.head = None\n",
    "\n",
    "\t\n",
    "\tdef push(self, new_data): \n",
    "\t\tnew_node = Node(new_data) \n",
    "\t\tnew_node.next = self.head \n",
    "\t\tself.head = new_node \n",
    "\n",
    "\t\n",
    "\tdef printList(self): \n",
    "\t\ttemp = self.head \n",
    "\t\twhile(temp): \n",
    "\t\t\tprint (temp.data)\n",
    "\t\t\ttemp = temp.next\n",
    "\n",
    "\t\n",
    "\tdef rotate(self, k): \n",
    "\t\tif k == 0: \n",
    "\t\t\treturn\n",
    "\t\tcurrent = self.head \n",
    "\t\tcount = 1\n",
    "\t\twhile(count < k and current is not None): \n",
    "\t\t\tcurrent = current.next\n",
    "\t\t\tcount += 1\n",
    "\t\t\n",
    "\t\tif current is None: \n",
    "\t\t\treturn\n",
    "\n",
    "\t\tkthNode = current \n",
    "\n",
    "\t\twhile(current.next is not None): \n",
    "\t\t\tcurrent = current.next\n",
    "\t\n",
    "\t\tcurrent.next = self.head \n",
    "\t\t\n",
    "\t\tself.head = kthNode.next\n",
    "\t\tkthNode.next = None"
   ]
  },
  {
   "cell_type": "code",
   "execution_count": 47,
   "id": "d67582bc-054e-44da-9ad2-2214c8c4d285",
   "metadata": {},
   "outputs": [
    {
     "name": "stdout",
     "output_type": "stream",
     "text": [
      "Given linked list\n",
      "10\n",
      "20\n",
      "30\n",
      "40\n",
      "50\n",
      "60\n",
      "\n",
      "Rotated Linked list\n",
      "50\n",
      "60\n",
      "10\n",
      "20\n",
      "30\n",
      "40\n"
     ]
    }
   ],
   "source": [
    "\n",
    "llist = LinkedList() \n",
    "\n",
    "for i in range(60, 0, -10): \n",
    "\tllist.push(i) \n",
    "\n",
    "print (\"Given linked list\")\n",
    "llist.printList() \n",
    "llist.rotate(4) \n",
    "\n",
    "print (\"\\nRotated Linked list\")\n",
    "llist.printList() \n",
    "\n"
   ]
  },
  {
   "cell_type": "code",
   "execution_count": 1,
   "id": "58105df5-96cc-4fd7-a8cc-42930d12d447",
   "metadata": {},
   "outputs": [],
   "source": [
    "#12)Rearrange a linked list such that all even positioned nodes are placed at the end.\n",
    "\n"
   ]
  },
  {
   "cell_type": "code",
   "execution_count": 2,
   "id": "c96b8b50-d34d-49a2-b42d-f8ff0cd362b7",
   "metadata": {},
   "outputs": [],
   "source": [
    "class Node: \n",
    "\tdef __init__(self, d):\n",
    "\t\tself.data = d\n",
    "\t\tself.next = None\n",
    "\n",
    "class LinkedList:\n",
    "\tdef __init__(self):\n",
    "\t\tself.head = None\n",
    "\t\t\n",
    "\tdef newNode(self, key): \n",
    "\t\ttemp = Node(key) \n",
    "\t\tself.next = None\n",
    "\t\treturn temp \n",
    "\t\n",
    "\tdef rearrangeEvenOdd(self, head): \n",
    "\t\t\t\n",
    "\t\tif (self.head == None): \n",
    "\t\t\treturn None\n",
    "\t\n",
    "\t\todd = self.head \n",
    "\t\teven = self.head.next\n",
    "\t\tevenFirst = even \n",
    "\n",
    "\t\twhile (1 == 1): \n",
    "\t\t\t\t\t\n",
    "\t\t\tif (odd == None or even == None or\n",
    "\t\t\t(even.next) == None): \n",
    "\t\t\t\todd.next = evenFirst \n",
    "\t\t\t\tbreak\n",
    "\t\t\n",
    "\t\t\todd.next = even.next\n",
    "\t\t\todd = even.next\n",
    "\n",
    "\t\t\tif (odd.next == None): \n",
    "\t\t\t\teven.next = None\n",
    "\t\t\t\todd.next = evenFirst \n",
    "\t\t\t\tbreak\n",
    "\n",
    "\t\t\teven.next = odd.next\n",
    "\t\t\teven = odd.next\n",
    "\t\treturn head\n",
    "\n",
    "\tdef printlist(self, node): \n",
    "\t\twhile (node != None): \n",
    "\t\t\tprint(node.data, end = \"\")\n",
    "\t\t\tprint(\"->\", end = \"\")\n",
    "\t\t\tnode = node.next\n",
    "\t\tprint (\"NULL\")\n",
    "\t\t\n",
    "\tdef push(self, new_data): \n",
    "\t\tnew_node = Node(new_data) \n",
    "\t\tnew_node.next = self.head \n",
    "\t\tself.head = new_node"
   ]
  },
  {
   "cell_type": "code",
   "execution_count": 3,
   "id": "97be1ddc-8f33-4c39-bed1-50ee97dc1821",
   "metadata": {},
   "outputs": [
    {
     "name": "stdout",
     "output_type": "stream",
     "text": [
      "Given Linked List\n",
      "1->2->3->4->5->NULL\n",
      "Modified Linked List\n",
      "1->3->5->2->4->NULL\n"
     ]
    }
   ],
   "source": [
    "ll = LinkedList()\n",
    "ll.push(5)\n",
    "ll.push(4)\n",
    "ll.push(3)\n",
    "ll.push(2)\n",
    "ll.push(1)\n",
    "print (\"Given Linked List\")\n",
    "ll.printlist(ll.head) \n",
    "\n",
    "start = ll.rearrangeEvenOdd(ll.head) \n",
    "\n",
    "print (\"Modified Linked List\")\n",
    "ll.printlist(start)\n"
   ]
  },
  {
   "cell_type": "code",
   "execution_count": 4,
   "id": "4ac951d0-d9cb-45a0-ae51-ccff7aaa12a5",
   "metadata": {},
   "outputs": [],
   "source": [
    "#14) Given a sorted array and a target value, return the index if the target is found. If not, return the\n",
    "#index where it would be inserted.\n"
   ]
  },
  {
   "cell_type": "code",
   "execution_count": 5,
   "id": "633e7ca4-51a0-4e8c-bfa8-0085732eb887",
   "metadata": {},
   "outputs": [],
   "source": [
    "def find_index(arr, n, K):\n",
    "\t\n",
    "\tfor i in range(n):\n",
    "\t\tif arr[i] == K:\n",
    "\t\t    return i\n",
    "\t\telif arr[i] > K:\n",
    "\t\t    return i\n",
    "\treturn n"
   ]
  },
  {
   "cell_type": "code",
   "execution_count": 6,
   "id": "181143ec-e916-4c10-aa58-34a5ddae19b0",
   "metadata": {},
   "outputs": [
    {
     "name": "stdout",
     "output_type": "stream",
     "text": [
      "1\n"
     ]
    }
   ],
   "source": [
    "arr = [1, 3, 5, 6]\n",
    "n = len(arr)\n",
    "K = 2\n",
    "print(find_index(arr, n, K))"
   ]
  },
  {
   "cell_type": "code",
   "execution_count": 7,
   "id": "1dad8e65-c743-45bc-991d-b628ad904098",
   "metadata": {},
   "outputs": [],
   "source": [
    "#15) Find the minimum element in a rotated sorted array."
   ]
  },
  {
   "cell_type": "code",
   "execution_count": 11,
   "id": "d771b20f-03bd-4a3b-aa14-252eb9a2d35e",
   "metadata": {},
   "outputs": [],
   "source": [
    "def findmin(arr, SI):\n",
    "    \n",
    "    if(SI>=len(arr)):\n",
    "        return 99999\n",
    "    \n",
    "    return min(arr[SI], findmin(arr, SI+1))    "
   ]
  },
  {
   "cell_type": "code",
   "execution_count": 12,
   "id": "065e3eb6-f3d1-4939-ab55-d0075ffc2bea",
   "metadata": {},
   "outputs": [
    {
     "name": "stdout",
     "output_type": "stream",
     "text": [
      "-1\n"
     ]
    }
   ],
   "source": [
    "print(findmin([3,2,-1,5,1],0))"
   ]
  },
  {
   "cell_type": "code",
   "execution_count": 13,
   "id": "1d52dd7b-3da5-41c2-a879-5a837dccadb8",
   "metadata": {},
   "outputs": [],
   "source": [
    "#16) Search for a target value in a rotated sorted array.\n",
    "\n"
   ]
  },
  {
   "cell_type": "code",
   "execution_count": 14,
   "id": "9dfd7480-b88e-4e46-a714-586ed889fd25",
   "metadata": {},
   "outputs": [],
   "source": [
    "def search(arr,num):\n",
    "    for i in range (len(arr)):\n",
    "        if arr[i]==num:\n",
    "            return i\n",
    "    return -1   "
   ]
  },
  {
   "cell_type": "code",
   "execution_count": 15,
   "id": "c063caa8-5829-4d15-966d-e4376370186d",
   "metadata": {},
   "outputs": [
    {
     "name": "stdout",
     "output_type": "stream",
     "text": [
      "-1\n"
     ]
    }
   ],
   "source": [
    "print(search ([4,3,1,3,9,19],5))"
   ]
  },
  {
   "cell_type": "code",
   "execution_count": 16,
   "id": "6a42c503-f481-4a4d-83a8-36b2c099bafc",
   "metadata": {},
   "outputs": [],
   "source": [
    "#17) Find the peak element in an array. A peak element is greater than its neighbors.\n"
   ]
  },
  {
   "cell_type": "code",
   "execution_count": 17,
   "id": "f2f52f8f-b457-4a3a-9cee-6073af447ba4",
   "metadata": {},
   "outputs": [],
   "source": [
    "def findPeak(arr, n) :\n",
    "   \n",
    "    if (n == 1) :\n",
    "      return 0\n",
    "    if (arr[0] >= arr[1]) :\n",
    "        return 0\n",
    "    if (arr[n - 1] >= arr[n - 2]) :\n",
    "        return n - 1\n",
    " \n",
    "    for i in range(1, n - 1) :\n",
    "         if (arr[i] >= arr[i - 1] and arr[i] >= arr[i + 1]) :\n",
    "            return i"
   ]
  },
  {
   "cell_type": "code",
   "execution_count": 18,
   "id": "902188f3-53bb-479e-9851-eeb6e38158b0",
   "metadata": {},
   "outputs": [
    {
     "name": "stdout",
     "output_type": "stream",
     "text": [
      "Index of a peak point is 2\n"
     ]
    }
   ],
   "source": [
    "arr = [ 1, 3, 20, 4, 1, 0 ]\n",
    "n = len(arr)\n",
    "print(\"Index of a peak point is\", findPeak(arr, n))"
   ]
  },
  {
   "cell_type": "code",
   "execution_count": 19,
   "id": "b595e588-67b1-4600-9883-362dc1cba336",
   "metadata": {},
   "outputs": [],
   "source": [
    "#21) Given a sorted character array and a target letter, find the smallest letter in the array that is\n",
    "# greater than the target."
   ]
  },
  {
   "cell_type": "code",
   "execution_count": 21,
   "id": "24e3c438-019f-4c8f-bde5-063a1a58149b",
   "metadata": {},
   "outputs": [],
   "source": [
    "def nextGreatestAlphabet(alphabets, K):\n",
    "\n",
    "\tn = len(alphabets)\n",
    "\tif(K >= alphabets[n-1]):\n",
    "\t    return alphabets[0]\n",
    "\tl = 0\n",
    "\tr = len(alphabets) - 1\n",
    "\tans = -1\n",
    "\twhile (l <= r):\n",
    "\n",
    "\t\tmid = int((l + r) / 2)\n",
    "\n",
    "\t\tif (alphabets[mid] > K):\n",
    "\t\t\tr = mid - 1\n",
    "\t\t\tans = mid\n",
    "\t\telse:\n",
    "\t\t\tl = mid + 1\n",
    "\t\n",
    "\tif (alphabets[ans] < K):\n",
    "\t\treturn alphabets[0]\n",
    "\telse:\n",
    "\t\treturn alphabets[ans]"
   ]
  },
  {
   "cell_type": "code",
   "execution_count": 22,
   "id": "a15d1f4b-3669-4630-8764-0446e47383cf",
   "metadata": {},
   "outputs": [
    {
     "name": "stdout",
     "output_type": "stream",
     "text": [
      "A\n"
     ]
    }
   ],
   "source": [
    "letters = ['A', 'r', 'z']\n",
    "K = 'z'\n",
    "\n",
    "result = nextGreatestAlphabet(letters, K)\n",
    "print(result)\n",
    "\n"
   ]
  },
  {
   "cell_type": "code",
   "execution_count": 23,
   "id": "490aa1e3-9dcb-4285-b1a8-d54d8cc38ee4",
   "metadata": {},
   "outputs": [],
   "source": [
    "#23) Find the kth largest element in an unsorted array."
   ]
  },
  {
   "cell_type": "code",
   "execution_count": 24,
   "id": "dc9fc64b-3025-4983-8b16-24a98a5c2ebe",
   "metadata": {},
   "outputs": [],
   "source": [
    "def kthSmallest(arr, N, K):\n",
    "\n",
    "   \n",
    "    arr.sort()\n",
    "    return arr[K-1]"
   ]
  },
  {
   "cell_type": "code",
   "execution_count": 26,
   "id": "b9104b23-5ee8-4180-a30f-38f9e04e257e",
   "metadata": {},
   "outputs": [
    {
     "name": "stdout",
     "output_type": "stream",
     "text": [
      "K'th smallest element is 2\n"
     ]
    }
   ],
   "source": [
    "if __name__ == '__main__':\n",
    "    arr = [3, 2, 1, 5, 6,4]\n",
    "    N = len(arr)\n",
    "    K = 2\n",
    "    print(\"K'th smallest element is\",\n",
    "          kthSmallest(arr, N, K))"
   ]
  },
  {
   "cell_type": "code",
   "execution_count": 27,
   "id": "3d98dc23-4771-4547-82dc-97b0b833e5da",
   "metadata": {},
   "outputs": [],
   "source": [
    "#25) Given an array of integers, calculate the sum of all its elements."
   ]
  },
  {
   "cell_type": "code",
   "execution_count": 28,
   "id": "ca59def9-c4be-4eed-bb6d-f38cd6650f9a",
   "metadata": {},
   "outputs": [],
   "source": [
    "def sum1(arr):\n",
    "    if len(arr) == 1:\n",
    "        return arr[0]\n",
    "    else:\n",
    "        return arr[0] + sum1(arr[1:])"
   ]
  },
  {
   "cell_type": "code",
   "execution_count": 29,
   "id": "0ed2cda2-05f6-45d0-a615-43ac55207739",
   "metadata": {},
   "outputs": [
    {
     "name": "stdout",
     "output_type": "stream",
     "text": [
      "34\n"
     ]
    }
   ],
   "source": [
    "arr = [12, 3, 4, 15]\n",
    "print(sum1(arr))\n"
   ]
  },
  {
   "cell_type": "code",
   "execution_count": 30,
   "id": "cf567b10-42c4-43e5-b69b-e4786dbb481d",
   "metadata": {},
   "outputs": [],
   "source": [
    "#26) Find the maximum element in an array of integers"
   ]
  },
  {
   "cell_type": "code",
   "execution_count": 33,
   "id": "630be876-e700-477e-a7d5-469b729f0508",
   "metadata": {},
   "outputs": [],
   "source": [
    "def largest(arr, n):\n",
    "\t\n",
    "\t\n",
    "\tmx = arr[0]\n",
    "\tfor i in range(1, n):\n",
    "\t\tif arr[i] > mx:\n",
    "\t\t\tmx = arr[i]\n",
    "\n",
    "\treturn mx"
   ]
  },
  {
   "cell_type": "code",
   "execution_count": 34,
   "id": "316a7fd7-776f-4f1f-83ff-be45827a3b6c",
   "metadata": {},
   "outputs": [
    {
     "name": "stdout",
     "output_type": "stream",
     "text": [
      "Largest in given array is 9808\n"
     ]
    }
   ],
   "source": [
    "if __name__ == '__main__':\n",
    "\tarr = [10, 324, 45, 90, 9808]\n",
    "\tn = len(arr)\n",
    "\t\n",
    "\tAns = largest(arr, n)\n",
    "\t\n",
    "print(\"Largest in given array is\", Ans)"
   ]
  },
  {
   "cell_type": "code",
   "execution_count": 35,
   "id": "ffc27889-3a1b-4e8f-b465-893ca31f9181",
   "metadata": {},
   "outputs": [],
   "source": [
    "#27) Implement linear search to find the index of a target element in an array."
   ]
  },
  {
   "cell_type": "code",
   "execution_count": 61,
   "id": "b1c5a169-e503-4acb-804b-502030821040",
   "metadata": {},
   "outputs": [],
   "source": [
    "def search(arr, N, x):\n",
    "\n",
    "    for i in range(0, N):\n",
    "        if (arr[i] == x):\n",
    "            return i\n",
    "    return -1"
   ]
  },
  {
   "cell_type": "code",
   "execution_count": 62,
   "id": "0cfd6704-479b-414f-82a3-56550abc9f00",
   "metadata": {},
   "outputs": [
    {
     "name": "stdout",
     "output_type": "stream",
     "text": [
      "Element is present at index 3\n"
     ]
    }
   ],
   "source": [
    "if __name__ == \"__main__\":\n",
    "    arr = [2, 3, 4, 10, 40]\n",
    "    x = 10\n",
    "    N = len(arr)\n",
    " \n",
    "    result = search(arr, N, x)\n",
    "    if(result == -1):\n",
    "        print(\"Element is not present in array\")\n",
    "    else:\n",
    "        print(\"Element is present at index\", result)"
   ]
  },
  {
   "cell_type": "code",
   "execution_count": 63,
   "id": "6a105240-9ce8-469f-84b7-e00043ac103a",
   "metadata": {},
   "outputs": [],
   "source": [
    "#28) Calculate the factorial of a given number.\n"
   ]
  },
  {
   "cell_type": "code",
   "execution_count": 64,
   "id": "ae1d459f-89d0-4ecd-ae7a-b9467839fe9e",
   "metadata": {},
   "outputs": [],
   "source": [
    "def factorial(n): \n",
    "\t\n",
    "\tif n == 0: \n",
    "\t\treturn 1\n",
    "\t\n",
    "\treturn n * factorial(n-1) "
   ]
  },
  {
   "cell_type": "code",
   "execution_count": 65,
   "id": "2431301c-541c-46c2-af28-96afc4f4cc25",
   "metadata": {},
   "outputs": [
    {
     "name": "stdout",
     "output_type": "stream",
     "text": [
      "Factorial of 5 is 120\n"
     ]
    }
   ],
   "source": [
    "num = 5; \n",
    "print(\"Factorial of\", num, \"is\", \n",
    "factorial(num)) "
   ]
  },
  {
   "cell_type": "code",
   "execution_count": 66,
   "id": "1afd7e02-663b-40de-8e4e-602dbb997bc4",
   "metadata": {},
   "outputs": [],
   "source": [
    "#29) Check if a given number is a prime number.\n"
   ]
  },
  {
   "cell_type": "code",
   "execution_count": 70,
   "id": "c62e6164-04a6-4115-b954-88aaa6383d5c",
   "metadata": {},
   "outputs": [],
   "source": [
    "def isPrime(n, i):\n",
    "\n",
    "    if (n == 0 or n == 1):\n",
    "        return False\n",
    "\n",
    "    if (n == i):\n",
    "        return True\n",
    "  \n",
    "    if (n % i == 0):\n",
    "        return False\n",
    "    i += 1\n",
    "\n",
    "    return isPrime(n, i)"
   ]
  },
  {
   "cell_type": "code",
   "execution_count": 72,
   "id": "b1cb2cc4-fdfc-4f63-978e-5e22ad8ae4ae",
   "metadata": {},
   "outputs": [
    {
     "name": "stdout",
     "output_type": "stream",
     "text": [
      "false\n"
     ]
    }
   ],
   "source": [
    "if (isPrime(35, 2)):\n",
    "    print(\"true\")\n",
    "else:\n",
    "    print(\"false\")\n"
   ]
  },
  {
   "cell_type": "code",
   "execution_count": 73,
   "id": "36acbe62-24e3-4a67-a338-01b7103646d9",
   "metadata": {},
   "outputs": [],
   "source": [
    "#30) Generate the Fibonacci series up to a given number n.\n"
   ]
  },
  {
   "cell_type": "code",
   "execution_count": 78,
   "id": "7c6d1921-7d5b-4f0b-9aff-f12e1af7bb56",
   "metadata": {},
   "outputs": [],
   "source": [
    "def fibonacci(n):\n",
    "    if n <= 1:\n",
    "        return n\n",
    "    else:\n",
    "        return fibonacci(n-1) + fibonacci(n-2)"
   ]
  },
  {
   "cell_type": "code",
   "execution_count": 79,
   "id": "937ae5ea-a8fb-41e8-9c8b-fbfc08d41648",
   "metadata": {},
   "outputs": [
    {
     "name": "stdout",
     "output_type": "stream",
     "text": [
      "8 th Fibonacci Number: \n",
      "21\n"
     ]
    }
   ],
   "source": [
    "if __name__ == \"__main__\":\n",
    "    n = 8\n",
    "    print(n, \"th Fibonacci Number: \")\n",
    "    print(fibonacci(n))\n"
   ]
  },
  {
   "cell_type": "code",
   "execution_count": 80,
   "id": "84f10dab-ed8a-4851-bc1d-0db94207ace7",
   "metadata": {},
   "outputs": [],
   "source": [
    "#31)Reverse a given string.\n"
   ]
  },
  {
   "cell_type": "code",
   "execution_count": 81,
   "id": "9c540370-d28e-4b0b-a254-c2dbeaa99919",
   "metadata": {},
   "outputs": [],
   "source": [
    "def reverse_string_loop(input_str):\n",
    "\treversed_str = \"\"\n",
    "\tfor char in input_str[::-1]:\n",
    "\t\treversed_str += char\n",
    "\treturn reversed_str"
   ]
  },
  {
   "cell_type": "code",
   "execution_count": 82,
   "id": "5986e3ff-bee2-4635-a217-9efaa8f8377c",
   "metadata": {},
   "outputs": [
    {
     "name": "stdout",
     "output_type": "stream",
     "text": [
      "teejnarmis\n"
     ]
    }
   ],
   "source": [
    "original_str = \"simranjeet\"\n",
    "result = reverse_string_loop(original_str)\n",
    "print(result)"
   ]
  },
  {
   "cell_type": "code",
   "execution_count": null,
   "id": "7abc5d46-0006-411f-b97d-8bd46385418f",
   "metadata": {},
   "outputs": [],
   "source": []
  }
 ],
 "metadata": {
  "kernelspec": {
   "display_name": "Python 3 (ipykernel)",
   "language": "python",
   "name": "python3"
  },
  "language_info": {
   "codemirror_mode": {
    "name": "ipython",
    "version": 3
   },
   "file_extension": ".py",
   "mimetype": "text/x-python",
   "name": "python",
   "nbconvert_exporter": "python",
   "pygments_lexer": "ipython3",
   "version": "3.10.8"
  }
 },
 "nbformat": 4,
 "nbformat_minor": 5
}
